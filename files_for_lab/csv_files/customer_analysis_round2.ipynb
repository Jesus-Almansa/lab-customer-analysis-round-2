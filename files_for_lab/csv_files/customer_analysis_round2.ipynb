{
 "cells": [
  {
   "cell_type": "markdown",
   "metadata": {},
   "source": [
    "# Round 2\n"
   ]
  },
  {
   "cell_type": "markdown",
   "metadata": {},
   "source": [
    "### Dealing with the data\n"
   ]
  },
  {
   "cell_type": "code",
   "execution_count": 86,
   "metadata": {},
   "outputs": [],
   "source": [
    "import numpy as pd\n",
    "import pandas as pd\n",
    "import matplotlib.pyplot as plt\n",
    "import scipy.stats as stats\n",
    "import seaborn as sns"
   ]
  },
  {
   "cell_type": "code",
   "execution_count": 87,
   "metadata": {},
   "outputs": [],
   "source": [
    "# df.columns[0]"
   ]
  },
  {
   "cell_type": "code",
   "execution_count": 88,
   "metadata": {},
   "outputs": [],
   "source": [
    "\n",
    "def dataframe(df):\n",
    "    df.shape\n",
    "    cols = []\n",
    "    for column in df.columns:\n",
    "        cols.append(column.lower())\n",
    "    df.columns = cols\n",
    "    df = df.drop('unnamed: 0',axis=1)\n",
    "    df.dropna(inplace=True)\n",
    "    df['effective to date'] = pd.to_datetime(df['effective to date'])\n",
    "    df['months'] = df['effective to date'].dt.month\n",
    "    return df\n",
    "\n",
    "\n",
    "df = dataframe(pd.read_csv('marketing_customer_analysis.csv'))"
   ]
  },
  {
   "cell_type": "markdown",
   "metadata": {},
   "source": [
    "### Show DataFrame info."
   ]
  },
  {
   "cell_type": "code",
   "execution_count": 89,
   "metadata": {},
   "outputs": [
    {
     "data": {
      "text/html": [
       "<div>\n",
       "<style scoped>\n",
       "    .dataframe tbody tr th:only-of-type {\n",
       "        vertical-align: middle;\n",
       "    }\n",
       "\n",
       "    .dataframe tbody tr th {\n",
       "        vertical-align: top;\n",
       "    }\n",
       "\n",
       "    .dataframe thead th {\n",
       "        text-align: right;\n",
       "    }\n",
       "</style>\n",
       "<table border=\"1\" class=\"dataframe\">\n",
       "  <thead>\n",
       "    <tr style=\"text-align: right;\">\n",
       "      <th></th>\n",
       "      <th>customer</th>\n",
       "      <th>state</th>\n",
       "      <th>customer lifetime value</th>\n",
       "      <th>response</th>\n",
       "      <th>coverage</th>\n",
       "      <th>education</th>\n",
       "      <th>effective to date</th>\n",
       "      <th>employmentstatus</th>\n",
       "      <th>gender</th>\n",
       "      <th>income</th>\n",
       "      <th>...</th>\n",
       "      <th>number of policies</th>\n",
       "      <th>policy type</th>\n",
       "      <th>policy</th>\n",
       "      <th>renew offer type</th>\n",
       "      <th>sales channel</th>\n",
       "      <th>total claim amount</th>\n",
       "      <th>vehicle class</th>\n",
       "      <th>vehicle size</th>\n",
       "      <th>vehicle type</th>\n",
       "      <th>months</th>\n",
       "    </tr>\n",
       "  </thead>\n",
       "  <tbody>\n",
       "    <tr>\n",
       "      <th>2</th>\n",
       "      <td>LZ68649</td>\n",
       "      <td>Washington</td>\n",
       "      <td>14947.917300</td>\n",
       "      <td>No</td>\n",
       "      <td>Basic</td>\n",
       "      <td>Bachelor</td>\n",
       "      <td>2011-02-10</td>\n",
       "      <td>Employed</td>\n",
       "      <td>M</td>\n",
       "      <td>22139</td>\n",
       "      <td>...</td>\n",
       "      <td>2</td>\n",
       "      <td>Personal Auto</td>\n",
       "      <td>Personal L3</td>\n",
       "      <td>Offer3</td>\n",
       "      <td>Call Center</td>\n",
       "      <td>480.000000</td>\n",
       "      <td>SUV</td>\n",
       "      <td>Medsize</td>\n",
       "      <td>A</td>\n",
       "      <td>2</td>\n",
       "    </tr>\n",
       "    <tr>\n",
       "      <th>3</th>\n",
       "      <td>XL78013</td>\n",
       "      <td>Oregon</td>\n",
       "      <td>22332.439460</td>\n",
       "      <td>Yes</td>\n",
       "      <td>Extended</td>\n",
       "      <td>College</td>\n",
       "      <td>2011-01-11</td>\n",
       "      <td>Employed</td>\n",
       "      <td>M</td>\n",
       "      <td>49078</td>\n",
       "      <td>...</td>\n",
       "      <td>2</td>\n",
       "      <td>Corporate Auto</td>\n",
       "      <td>Corporate L3</td>\n",
       "      <td>Offer2</td>\n",
       "      <td>Branch</td>\n",
       "      <td>484.013411</td>\n",
       "      <td>Four-Door Car</td>\n",
       "      <td>Medsize</td>\n",
       "      <td>A</td>\n",
       "      <td>1</td>\n",
       "    </tr>\n",
       "    <tr>\n",
       "      <th>10</th>\n",
       "      <td>HG93801</td>\n",
       "      <td>Arizona</td>\n",
       "      <td>5154.764074</td>\n",
       "      <td>No</td>\n",
       "      <td>Extended</td>\n",
       "      <td>High School or Below</td>\n",
       "      <td>2011-01-02</td>\n",
       "      <td>Employed</td>\n",
       "      <td>M</td>\n",
       "      <td>82730</td>\n",
       "      <td>...</td>\n",
       "      <td>1</td>\n",
       "      <td>Corporate Auto</td>\n",
       "      <td>Corporate L3</td>\n",
       "      <td>Offer2</td>\n",
       "      <td>Branch</td>\n",
       "      <td>442.521087</td>\n",
       "      <td>SUV</td>\n",
       "      <td>Large</td>\n",
       "      <td>A</td>\n",
       "      <td>1</td>\n",
       "    </tr>\n",
       "    <tr>\n",
       "      <th>13</th>\n",
       "      <td>KR82385</td>\n",
       "      <td>California</td>\n",
       "      <td>5454.587929</td>\n",
       "      <td>No</td>\n",
       "      <td>Basic</td>\n",
       "      <td>Master</td>\n",
       "      <td>2011-01-26</td>\n",
       "      <td>Employed</td>\n",
       "      <td>M</td>\n",
       "      <td>66334</td>\n",
       "      <td>...</td>\n",
       "      <td>4</td>\n",
       "      <td>Personal Auto</td>\n",
       "      <td>Personal L3</td>\n",
       "      <td>Offer4</td>\n",
       "      <td>Call Center</td>\n",
       "      <td>331.200000</td>\n",
       "      <td>Two-Door Car</td>\n",
       "      <td>Medsize</td>\n",
       "      <td>A</td>\n",
       "      <td>1</td>\n",
       "    </tr>\n",
       "    <tr>\n",
       "      <th>16</th>\n",
       "      <td>FH51383</td>\n",
       "      <td>California</td>\n",
       "      <td>5326.677654</td>\n",
       "      <td>No</td>\n",
       "      <td>Basic</td>\n",
       "      <td>High School or Below</td>\n",
       "      <td>2011-02-07</td>\n",
       "      <td>Employed</td>\n",
       "      <td>F</td>\n",
       "      <td>76717</td>\n",
       "      <td>...</td>\n",
       "      <td>6</td>\n",
       "      <td>Personal Auto</td>\n",
       "      <td>Personal L3</td>\n",
       "      <td>Offer4</td>\n",
       "      <td>Call Center</td>\n",
       "      <td>300.528579</td>\n",
       "      <td>Two-Door Car</td>\n",
       "      <td>Large</td>\n",
       "      <td>A</td>\n",
       "      <td>2</td>\n",
       "    </tr>\n",
       "  </tbody>\n",
       "</table>\n",
       "<p>5 rows × 26 columns</p>\n",
       "</div>"
      ],
      "text/plain": [
       "   customer       state  customer lifetime value response  coverage  \\\n",
       "2   LZ68649  Washington             14947.917300       No     Basic   \n",
       "3   XL78013      Oregon             22332.439460      Yes  Extended   \n",
       "10  HG93801     Arizona              5154.764074       No  Extended   \n",
       "13  KR82385  California              5454.587929       No     Basic   \n",
       "16  FH51383  California              5326.677654       No     Basic   \n",
       "\n",
       "               education effective to date employmentstatus gender  income  \\\n",
       "2               Bachelor        2011-02-10         Employed      M   22139   \n",
       "3                College        2011-01-11         Employed      M   49078   \n",
       "10  High School or Below        2011-01-02         Employed      M   82730   \n",
       "13                Master        2011-01-26         Employed      M   66334   \n",
       "16  High School or Below        2011-02-07         Employed      F   76717   \n",
       "\n",
       "    ... number of policies     policy type        policy  renew offer type  \\\n",
       "2   ...                  2   Personal Auto   Personal L3            Offer3   \n",
       "3   ...                  2  Corporate Auto  Corporate L3            Offer2   \n",
       "10  ...                  1  Corporate Auto  Corporate L3            Offer2   \n",
       "13  ...                  4   Personal Auto   Personal L3            Offer4   \n",
       "16  ...                  6   Personal Auto   Personal L3            Offer4   \n",
       "\n",
       "    sales channel  total claim amount  vehicle class vehicle size  \\\n",
       "2     Call Center          480.000000            SUV      Medsize   \n",
       "3          Branch          484.013411  Four-Door Car      Medsize   \n",
       "10         Branch          442.521087            SUV        Large   \n",
       "13    Call Center          331.200000   Two-Door Car      Medsize   \n",
       "16    Call Center          300.528579   Two-Door Car        Large   \n",
       "\n",
       "   vehicle type months  \n",
       "2             A      2  \n",
       "3             A      1  \n",
       "10            A      1  \n",
       "13            A      1  \n",
       "16            A      2  \n",
       "\n",
       "[5 rows x 26 columns]"
      ]
     },
     "execution_count": 89,
     "metadata": {},
     "output_type": "execute_result"
    }
   ],
   "source": [
    "df.head()"
   ]
  },
  {
   "cell_type": "markdown",
   "metadata": {},
   "source": [
    "### Describe DataFrame."
   ]
  },
  {
   "cell_type": "code",
   "execution_count": 90,
   "metadata": {},
   "outputs": [
    {
     "data": {
      "text/html": [
       "<div>\n",
       "<style scoped>\n",
       "    .dataframe tbody tr th:only-of-type {\n",
       "        vertical-align: middle;\n",
       "    }\n",
       "\n",
       "    .dataframe tbody tr th {\n",
       "        vertical-align: top;\n",
       "    }\n",
       "\n",
       "    .dataframe thead th {\n",
       "        text-align: right;\n",
       "    }\n",
       "</style>\n",
       "<table border=\"1\" class=\"dataframe\">\n",
       "  <thead>\n",
       "    <tr style=\"text-align: right;\">\n",
       "      <th></th>\n",
       "      <th>count</th>\n",
       "      <th>mean</th>\n",
       "      <th>std</th>\n",
       "      <th>min</th>\n",
       "      <th>25%</th>\n",
       "      <th>50%</th>\n",
       "      <th>75%</th>\n",
       "      <th>max</th>\n",
       "    </tr>\n",
       "  </thead>\n",
       "  <tbody>\n",
       "    <tr>\n",
       "      <th>customer lifetime value</th>\n",
       "      <td>4543.0</td>\n",
       "      <td>8033.714059</td>\n",
       "      <td>6959.529443</td>\n",
       "      <td>1904.000852</td>\n",
       "      <td>4039.089902</td>\n",
       "      <td>5846.520588</td>\n",
       "      <td>8936.596938</td>\n",
       "      <td>83325.381190</td>\n",
       "    </tr>\n",
       "    <tr>\n",
       "      <th>income</th>\n",
       "      <td>4543.0</td>\n",
       "      <td>37453.033238</td>\n",
       "      <td>30257.399536</td>\n",
       "      <td>0.000000</td>\n",
       "      <td>0.000000</td>\n",
       "      <td>34455.000000</td>\n",
       "      <td>61560.000000</td>\n",
       "      <td>99961.000000</td>\n",
       "    </tr>\n",
       "    <tr>\n",
       "      <th>monthly premium auto</th>\n",
       "      <td>4543.0</td>\n",
       "      <td>93.773278</td>\n",
       "      <td>35.093661</td>\n",
       "      <td>61.000000</td>\n",
       "      <td>69.000000</td>\n",
       "      <td>83.000000</td>\n",
       "      <td>110.000000</td>\n",
       "      <td>298.000000</td>\n",
       "    </tr>\n",
       "    <tr>\n",
       "      <th>months since last claim</th>\n",
       "      <td>4543.0</td>\n",
       "      <td>15.111820</td>\n",
       "      <td>10.157925</td>\n",
       "      <td>0.000000</td>\n",
       "      <td>6.000000</td>\n",
       "      <td>14.000000</td>\n",
       "      <td>23.000000</td>\n",
       "      <td>35.000000</td>\n",
       "    </tr>\n",
       "    <tr>\n",
       "      <th>months since policy inception</th>\n",
       "      <td>4543.0</td>\n",
       "      <td>48.153863</td>\n",
       "      <td>28.146904</td>\n",
       "      <td>0.000000</td>\n",
       "      <td>24.000000</td>\n",
       "      <td>47.000000</td>\n",
       "      <td>72.000000</td>\n",
       "      <td>99.000000</td>\n",
       "    </tr>\n",
       "    <tr>\n",
       "      <th>number of open complaints</th>\n",
       "      <td>4543.0</td>\n",
       "      <td>0.386309</td>\n",
       "      <td>0.907553</td>\n",
       "      <td>0.000000</td>\n",
       "      <td>0.000000</td>\n",
       "      <td>0.000000</td>\n",
       "      <td>0.000000</td>\n",
       "      <td>5.000000</td>\n",
       "    </tr>\n",
       "    <tr>\n",
       "      <th>number of policies</th>\n",
       "      <td>4543.0</td>\n",
       "      <td>2.980189</td>\n",
       "      <td>2.390362</td>\n",
       "      <td>1.000000</td>\n",
       "      <td>1.000000</td>\n",
       "      <td>2.000000</td>\n",
       "      <td>4.000000</td>\n",
       "      <td>9.000000</td>\n",
       "    </tr>\n",
       "    <tr>\n",
       "      <th>total claim amount</th>\n",
       "      <td>4543.0</td>\n",
       "      <td>436.477525</td>\n",
       "      <td>295.026990</td>\n",
       "      <td>0.099007</td>\n",
       "      <td>265.686145</td>\n",
       "      <td>384.000000</td>\n",
       "      <td>552.000000</td>\n",
       "      <td>2893.239678</td>\n",
       "    </tr>\n",
       "    <tr>\n",
       "      <th>months</th>\n",
       "      <td>4543.0</td>\n",
       "      <td>1.469734</td>\n",
       "      <td>0.499138</td>\n",
       "      <td>1.000000</td>\n",
       "      <td>1.000000</td>\n",
       "      <td>1.000000</td>\n",
       "      <td>2.000000</td>\n",
       "      <td>2.000000</td>\n",
       "    </tr>\n",
       "  </tbody>\n",
       "</table>\n",
       "</div>"
      ],
      "text/plain": [
       "                                count          mean           std  \\\n",
       "customer lifetime value        4543.0   8033.714059   6959.529443   \n",
       "income                         4543.0  37453.033238  30257.399536   \n",
       "monthly premium auto           4543.0     93.773278     35.093661   \n",
       "months since last claim        4543.0     15.111820     10.157925   \n",
       "months since policy inception  4543.0     48.153863     28.146904   \n",
       "number of open complaints      4543.0      0.386309      0.907553   \n",
       "number of policies             4543.0      2.980189      2.390362   \n",
       "total claim amount             4543.0    436.477525    295.026990   \n",
       "months                         4543.0      1.469734      0.499138   \n",
       "\n",
       "                                       min          25%           50%  \\\n",
       "customer lifetime value        1904.000852  4039.089902   5846.520588   \n",
       "income                            0.000000     0.000000  34455.000000   \n",
       "monthly premium auto             61.000000    69.000000     83.000000   \n",
       "months since last claim           0.000000     6.000000     14.000000   \n",
       "months since policy inception     0.000000    24.000000     47.000000   \n",
       "number of open complaints         0.000000     0.000000      0.000000   \n",
       "number of policies                1.000000     1.000000      2.000000   \n",
       "total claim amount                0.099007   265.686145    384.000000   \n",
       "months                            1.000000     1.000000      1.000000   \n",
       "\n",
       "                                        75%           max  \n",
       "customer lifetime value         8936.596938  83325.381190  \n",
       "income                         61560.000000  99961.000000  \n",
       "monthly premium auto             110.000000    298.000000  \n",
       "months since last claim           23.000000     35.000000  \n",
       "months since policy inception     72.000000     99.000000  \n",
       "number of open complaints          0.000000      5.000000  \n",
       "number of policies                 4.000000      9.000000  \n",
       "total claim amount               552.000000   2893.239678  \n",
       "months                             2.000000      2.000000  "
      ]
     },
     "execution_count": 90,
     "metadata": {},
     "output_type": "execute_result"
    }
   ],
   "source": [
    "df.describe().T"
   ]
  },
  {
   "cell_type": "code",
   "execution_count": 91,
   "metadata": {},
   "outputs": [
    {
     "data": {
      "text/plain": [
       "Yes     641\n",
       "No     3902\n",
       "Name: response, dtype: int64"
      ]
     },
     "execution_count": 91,
     "metadata": {},
     "output_type": "execute_result"
    }
   ],
   "source": [
    "df['response'].value_counts(ascending=True)"
   ]
  },
  {
   "cell_type": "code",
   "execution_count": 92,
   "metadata": {},
   "outputs": [
    {
     "data": {
      "text/plain": [
       "(4543,)"
      ]
     },
     "execution_count": 92,
     "metadata": {},
     "output_type": "execute_result"
    }
   ],
   "source": [
    "df['response'].values\n",
    "df['response'].value_counts()\n",
    "df['response'].shape"
   ]
  },
  {
   "cell_type": "markdown",
   "metadata": {},
   "source": []
  },
  {
   "cell_type": "markdown",
   "metadata": {},
   "source": [
    "### Show a plot of the total number of responses."
   ]
  },
  {
   "cell_type": "code",
   "execution_count": 94,
   "metadata": {},
   "outputs": [
    {
     "data": {
      "text/plain": [
       "(<AxesSubplot:>,\n",
       " No     3902\n",
       " Yes     641\n",
       " Name: response, dtype: int64)"
      ]
     },
     "execution_count": 94,
     "metadata": {},
     "output_type": "execute_result"
    },
    {
     "data": {
      "image/png": "[encoded data removed]",
      "text/plain": [
       "<Figure size 432x288 with 1 Axes>"
      ]
     },
     "metadata": {
      "needs_background": "light"
     },
     "output_type": "display_data"
    }
   ],
   "source": [
    "df['response'].value_counts().plot(kind='bar'), df['response'].value_counts()"
   ]
  },
  {
   "cell_type": "markdown",
   "metadata": {},
   "source": [
    "### Show a plot of the response rate by the sales channel."
   ]
  },
  {
   "cell_type": "code",
   "execution_count": null,
   "metadata": {},
   "outputs": [],
   "source": []
  },
  {
   "cell_type": "markdown",
   "metadata": {},
   "source": [
    "### Show a plot of the response rate by the total claim amount.\n"
   ]
  },
  {
   "cell_type": "code",
   "execution_count": null,
   "metadata": {},
   "outputs": [],
   "source": []
  },
  {
   "cell_type": "markdown",
   "metadata": {},
   "source": [
    "### Show a plot of the response rate by income.\n",
    "\n"
   ]
  },
  {
   "cell_type": "code",
   "execution_count": null,
   "metadata": {},
   "outputs": [],
   "source": []
  }
 ],
 "metadata": {
  "kernelspec": {
   "display_name": "Python 3.9.12 ('base')",
   "language": "python",
   "name": "python3"
  },
  "language_info": {
   "codemirror_mode": {
    "name": "ipython",
    "version": 3
   },
   "file_extension": ".py",
   "mimetype": "text/x-python",
   "name": "python",
   "nbconvert_exporter": "python",
   "pygments_lexer": "ipython3",
   "version": "3.9.12"
  },
  "orig_nbformat": 4,
  "vscode": {
   "interpreter": {
    "hash": "6df17fb4df13b71ec05b4aa94d3608f0ccf4cd310a274d15d56bf76c7ef9733e"
   }
  }
 },
 "nbformat": 4,
 "nbformat_minor": 2
}

{
 "cells": [
  {
   "cell_type": "markdown",
   "metadata": {},
   "source": [
    "# Round 2\n"
   ]
  },
  {
   "cell_type": "markdown",
   "metadata": {},
   "source": [
    "### Dealing with the data\n"
   ]
  },
  {
   "cell_type": "code",
   "execution_count": 166,
   "metadata": {},
   "outputs": [],
   "source": [
    "import numpy as pd\n",
    "import pandas as pd\n"
   ]
  },
  {
   "cell_type": "code",
   "execution_count": 168,
   "metadata": {},
   "outputs": [
    {
     "data": {
      "text/plain": [
       "'Unnamed: 0'"
      ]
     },
     "execution_count": 168,
     "metadata": {},
     "output_type": "execute_result"
    }
   ],
   "source": [
    "# df.columns[0]"
   ]
  },
  {
   "cell_type": "code",
   "execution_count": 173,
   "metadata": {},
   "outputs": [],
   "source": [
    "\n",
    "def dataframe():\n",
    "    df = pd.read_csv('marketing_customer_analysis.csv')\n",
    "    df.shape\n",
    "    cols = []\n",
    "    for column in df.columns:\n",
    "        cols.append(column.lower())\n",
    "    df.columns = cols\n",
    "    df = df.drop('unnamed: 0',axis=1)\n",
    "    df.dropna(inplace=True)\n",
    "    df['effective to date'] = pd.to_datetime(df['effective to date'])\n",
    "    df['months'] = df['effective to date'].dt.month\n",
    "    return df.shape, df\n",
    "\n",
    "\n"
   ]
  },
  {
   "cell_type": "code",
   "execution_count": 174,
   "metadata": {},
   "outputs": [
    {
     "data": {
      "text/plain": [
       "((4543, 26),\n",
       "       customer       state  customer lifetime value response  coverage  \\\n",
       " 2      LZ68649  Washington             14947.917300       No     Basic   \n",
       " 3      XL78013      Oregon             22332.439460      Yes  Extended   \n",
       " 10     HG93801     Arizona              5154.764074       No  Extended   \n",
       " 13     KR82385  California              5454.587929       No     Basic   \n",
       " 16     FH51383  California              5326.677654       No     Basic   \n",
       " ...        ...         ...                      ...      ...       ...   \n",
       " 10902  PP30874  California              3579.023825       No  Extended   \n",
       " 10903  SU71163     Arizona              2771.663013       No     Basic   \n",
       " 10904  QI63521      Nevada             19228.463620       No     Basic   \n",
       " 10906  KX53892      Oregon              5259.444853       No     Basic   \n",
       " 10908  WA60547  California             11971.977650       No   Premium   \n",
       " \n",
       "                   education effective to date employmentstatus gender  income  \\\n",
       " 2                  Bachelor        2011-02-10         Employed      M   22139   \n",
       " 3                   College        2011-01-11         Employed      M   49078   \n",
       " 10     High School or Below        2011-01-02         Employed      M   82730   \n",
       " 13                   Master        2011-01-26         Employed      M   66334   \n",
       " 16     High School or Below        2011-02-07         Employed      F   76717   \n",
       " ...                     ...               ...              ...    ...     ...   \n",
       " 10902  High School or Below        2011-01-24         Employed      F   28304   \n",
       " 10903               College        2011-01-07         Employed      M   59855   \n",
       " 10904  High School or Below        2011-02-24       Unemployed      M       0   \n",
       " 10906               College        2011-01-06         Employed      F   61146   \n",
       " 10908               College        2011-02-13         Employed      F   64195   \n",
       " \n",
       "        ... number of policies     policy type        policy  renew offer type  \\\n",
       " 2      ...                  2   Personal Auto   Personal L3            Offer3   \n",
       " 3      ...                  2  Corporate Auto  Corporate L3            Offer2   \n",
       " 10     ...                  1  Corporate Auto  Corporate L3            Offer2   \n",
       " 13     ...                  4   Personal Auto   Personal L3            Offer4   \n",
       " 16     ...                  6   Personal Auto   Personal L3            Offer4   \n",
       " ...    ...                ...             ...           ...               ...   \n",
       " 10902  ...                  1   Personal Auto   Personal L2            Offer2   \n",
       " 10903  ...                  1   Personal Auto   Personal L2            Offer2   \n",
       " 10904  ...                  2   Personal Auto   Personal L2            Offer1   \n",
       " 10906  ...                  6   Personal Auto   Personal L3            Offer2   \n",
       " 10908  ...                  6   Personal Auto   Personal L1            Offer1   \n",
       " \n",
       "        sales channel  total claim amount  vehicle class vehicle size  \\\n",
       " 2        Call Center          480.000000            SUV      Medsize   \n",
       " 3             Branch          484.013411  Four-Door Car      Medsize   \n",
       " 10            Branch          442.521087            SUV        Large   \n",
       " 13       Call Center          331.200000   Two-Door Car      Medsize   \n",
       " 16       Call Center          300.528579   Two-Door Car        Large   \n",
       " ...              ...                 ...            ...          ...   \n",
       " 10902          Agent          655.200000  Four-Door Car      Medsize   \n",
       " 10903         Branch          355.200000   Two-Door Car      Medsize   \n",
       " 10904         Branch          897.600000     Luxury SUV      Medsize   \n",
       " 10906         Branch          273.018929  Four-Door Car      Medsize   \n",
       " 10908         Branch          618.288849            SUV      Medsize   \n",
       " \n",
       "       vehicle type months  \n",
       " 2                A      2  \n",
       " 3                A      1  \n",
       " 10               A      1  \n",
       " 13               A      1  \n",
       " 16               A      2  \n",
       " ...            ...    ...  \n",
       " 10902            A      1  \n",
       " 10903            A      1  \n",
       " 10904            A      2  \n",
       " 10906            A      1  \n",
       " 10908            A      2  \n",
       " \n",
       " [4543 rows x 26 columns])"
      ]
     },
     "execution_count": 174,
     "metadata": {},
     "output_type": "execute_result"
    }
   ],
   "source": [
    "dataframe()"
   ]
  }
 ],
 "metadata": {
  "kernelspec": {
   "display_name": "Python 3.9.12 ('base')",
   "language": "python",
   "name": "python3"
  },
  "language_info": {
   "codemirror_mode": {
    "name": "ipython",
    "version": 3
   },
   "file_extension": ".py",
   "mimetype": "text/x-python",
   "name": "python",
   "nbconvert_exporter": "python",
   "pygments_lexer": "ipython3",
   "version": "3.9.12"
  },
  "orig_nbformat": 4,
  "vscode": {
   "interpreter": {
    "hash": "6df17fb4df13b71ec05b4aa94d3608f0ccf4cd310a274d15d56bf76c7ef9733e"
   }
  }
 },
 "nbformat": 4,
 "nbformat_minor": 2
}

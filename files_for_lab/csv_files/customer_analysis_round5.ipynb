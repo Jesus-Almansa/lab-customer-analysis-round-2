{
 "cells": [
  {
   "cell_type": "markdown",
   "metadata": {},
   "source": [
    "# Round 2\n"
   ]
  },
  {
   "cell_type": "markdown",
   "metadata": {},
   "source": [
    "### Dealing with the data\n"
   ]
  },
  {
   "cell_type": "code",
   "execution_count": 2,
   "metadata": {},
   "outputs": [],
   "source": [
    "import numpy as np\n",
    "import pandas as pd\n",
    "import matplotlib.pyplot as plt\n",
    "import scipy.stats as stats\n",
    "import seaborn as sns\n",
    "sns.set()"
   ]
  },
  {
   "cell_type": "code",
   "execution_count": 3,
   "metadata": {},
   "outputs": [],
   "source": [
    "# df.columns"
   ]
  },
  {
   "cell_type": "code",
   "execution_count": 4,
   "metadata": {},
   "outputs": [],
   "source": [
    "\n",
    "def dataframe(df):\n",
    "    df.shape\n",
    "    cols = []\n",
    "    for column in df.columns:\n",
    "        cols.append(column.lower())\n",
    "    df.columns = cols\n",
    "    df = df.drop('unnamed: 0',axis=1)\n",
    "    df.dropna(inplace=True) # We are throwing away 5000 rows that are empty\n",
    "    df['effective to date'] = pd.to_datetime(df['effective to date'])\n",
    "    df['months'] = df['effective to date'].dt.month\n",
    "    return df\n",
    "\n",
    "\n",
    "df = dataframe(pd.read_csv('marketing_customer_analysis.csv'))"
   ]
  },
  {
   "cell_type": "markdown",
   "metadata": {},
   "source": [
    "### Show DataFrame info."
   ]
  },
  {
   "cell_type": "code",
   "execution_count": 5,
   "metadata": {},
   "outputs": [
    {
     "data": {
      "text/plain": [
       "Index(['customer', 'state', 'customer lifetime value', 'response', 'coverage',\n",
       "       'education', 'effective to date', 'employmentstatus', 'gender',\n",
       "       'income', 'location code', 'marital status', 'monthly premium auto',\n",
       "       'months since last claim', 'months since policy inception',\n",
       "       'number of open complaints', 'number of policies', 'policy type',\n",
       "       'policy', 'renew offer type', 'sales channel', 'total claim amount',\n",
       "       'vehicle class', 'vehicle size', 'vehicle type', 'months'],\n",
       "      dtype='object')"
      ]
     },
     "execution_count": 5,
     "metadata": {},
     "output_type": "execute_result"
    }
   ],
   "source": [
    "df.columns"
   ]
  },
  {
   "cell_type": "code",
   "execution_count": 6,
   "metadata": {},
   "outputs": [
    {
     "data": {
      "text/html": [
       "<div>\n",
       "<style scoped>\n",
       "    .dataframe tbody tr th:only-of-type {\n",
       "        vertical-align: middle;\n",
       "    }\n",
       "\n",
       "    .dataframe tbody tr th {\n",
       "        vertical-align: top;\n",
       "    }\n",
       "\n",
       "    .dataframe thead th {\n",
       "        text-align: right;\n",
       "    }\n",
       "</style>\n",
       "<table border=\"1\" class=\"dataframe\">\n",
       "  <thead>\n",
       "    <tr style=\"text-align: right;\">\n",
       "      <th></th>\n",
       "      <th>customer</th>\n",
       "      <th>state</th>\n",
       "      <th>customer lifetime value</th>\n",
       "      <th>response</th>\n",
       "      <th>coverage</th>\n",
       "      <th>education</th>\n",
       "      <th>effective to date</th>\n",
       "      <th>employmentstatus</th>\n",
       "      <th>gender</th>\n",
       "      <th>income</th>\n",
       "      <th>...</th>\n",
       "      <th>number of policies</th>\n",
       "      <th>policy type</th>\n",
       "      <th>policy</th>\n",
       "      <th>renew offer type</th>\n",
       "      <th>sales channel</th>\n",
       "      <th>total claim amount</th>\n",
       "      <th>vehicle class</th>\n",
       "      <th>vehicle size</th>\n",
       "      <th>vehicle type</th>\n",
       "      <th>months</th>\n",
       "    </tr>\n",
       "  </thead>\n",
       "  <tbody>\n",
       "    <tr>\n",
       "      <th>2</th>\n",
       "      <td>LZ68649</td>\n",
       "      <td>Washington</td>\n",
       "      <td>14947.917300</td>\n",
       "      <td>No</td>\n",
       "      <td>Basic</td>\n",
       "      <td>Bachelor</td>\n",
       "      <td>2011-02-10</td>\n",
       "      <td>Employed</td>\n",
       "      <td>M</td>\n",
       "      <td>22139</td>\n",
       "      <td>...</td>\n",
       "      <td>2</td>\n",
       "      <td>Personal Auto</td>\n",
       "      <td>Personal L3</td>\n",
       "      <td>Offer3</td>\n",
       "      <td>Call Center</td>\n",
       "      <td>480.000000</td>\n",
       "      <td>SUV</td>\n",
       "      <td>Medsize</td>\n",
       "      <td>A</td>\n",
       "      <td>2</td>\n",
       "    </tr>\n",
       "    <tr>\n",
       "      <th>3</th>\n",
       "      <td>XL78013</td>\n",
       "      <td>Oregon</td>\n",
       "      <td>22332.439460</td>\n",
       "      <td>Yes</td>\n",
       "      <td>Extended</td>\n",
       "      <td>College</td>\n",
       "      <td>2011-01-11</td>\n",
       "      <td>Employed</td>\n",
       "      <td>M</td>\n",
       "      <td>49078</td>\n",
       "      <td>...</td>\n",
       "      <td>2</td>\n",
       "      <td>Corporate Auto</td>\n",
       "      <td>Corporate L3</td>\n",
       "      <td>Offer2</td>\n",
       "      <td>Branch</td>\n",
       "      <td>484.013411</td>\n",
       "      <td>Four-Door Car</td>\n",
       "      <td>Medsize</td>\n",
       "      <td>A</td>\n",
       "      <td>1</td>\n",
       "    </tr>\n",
       "    <tr>\n",
       "      <th>10</th>\n",
       "      <td>HG93801</td>\n",
       "      <td>Arizona</td>\n",
       "      <td>5154.764074</td>\n",
       "      <td>No</td>\n",
       "      <td>Extended</td>\n",
       "      <td>High School or Below</td>\n",
       "      <td>2011-01-02</td>\n",
       "      <td>Employed</td>\n",
       "      <td>M</td>\n",
       "      <td>82730</td>\n",
       "      <td>...</td>\n",
       "      <td>1</td>\n",
       "      <td>Corporate Auto</td>\n",
       "      <td>Corporate L3</td>\n",
       "      <td>Offer2</td>\n",
       "      <td>Branch</td>\n",
       "      <td>442.521087</td>\n",
       "      <td>SUV</td>\n",
       "      <td>Large</td>\n",
       "      <td>A</td>\n",
       "      <td>1</td>\n",
       "    </tr>\n",
       "    <tr>\n",
       "      <th>13</th>\n",
       "      <td>KR82385</td>\n",
       "      <td>California</td>\n",
       "      <td>5454.587929</td>\n",
       "      <td>No</td>\n",
       "      <td>Basic</td>\n",
       "      <td>Master</td>\n",
       "      <td>2011-01-26</td>\n",
       "      <td>Employed</td>\n",
       "      <td>M</td>\n",
       "      <td>66334</td>\n",
       "      <td>...</td>\n",
       "      <td>4</td>\n",
       "      <td>Personal Auto</td>\n",
       "      <td>Personal L3</td>\n",
       "      <td>Offer4</td>\n",
       "      <td>Call Center</td>\n",
       "      <td>331.200000</td>\n",
       "      <td>Two-Door Car</td>\n",
       "      <td>Medsize</td>\n",
       "      <td>A</td>\n",
       "      <td>1</td>\n",
       "    </tr>\n",
       "    <tr>\n",
       "      <th>16</th>\n",
       "      <td>FH51383</td>\n",
       "      <td>California</td>\n",
       "      <td>5326.677654</td>\n",
       "      <td>No</td>\n",
       "      <td>Basic</td>\n",
       "      <td>High School or Below</td>\n",
       "      <td>2011-02-07</td>\n",
       "      <td>Employed</td>\n",
       "      <td>F</td>\n",
       "      <td>76717</td>\n",
       "      <td>...</td>\n",
       "      <td>6</td>\n",
       "      <td>Personal Auto</td>\n",
       "      <td>Personal L3</td>\n",
       "      <td>Offer4</td>\n",
       "      <td>Call Center</td>\n",
       "      <td>300.528579</td>\n",
       "      <td>Two-Door Car</td>\n",
       "      <td>Large</td>\n",
       "      <td>A</td>\n",
       "      <td>2</td>\n",
       "    </tr>\n",
       "  </tbody>\n",
       "</table>\n",
       "<p>5 rows × 26 columns</p>\n",
       "</div>"
      ],
      "text/plain": [
       "   customer       state  customer lifetime value response  coverage  \\\n",
       "2   LZ68649  Washington             14947.917300       No     Basic   \n",
       "3   XL78013      Oregon             22332.439460      Yes  Extended   \n",
       "10  HG93801     Arizona              5154.764074       No  Extended   \n",
       "13  KR82385  California              5454.587929       No     Basic   \n",
       "16  FH51383  California              5326.677654       No     Basic   \n",
       "\n",
       "               education effective to date employmentstatus gender  income  \\\n",
       "2               Bachelor        2011-02-10         Employed      M   22139   \n",
       "3                College        2011-01-11         Employed      M   49078   \n",
       "10  High School or Below        2011-01-02         Employed      M   82730   \n",
       "13                Master        2011-01-26         Employed      M   66334   \n",
       "16  High School or Below        2011-02-07         Employed      F   76717   \n",
       "\n",
       "    ... number of policies     policy type        policy  renew offer type  \\\n",
       "2   ...                  2   Personal Auto   Personal L3            Offer3   \n",
       "3   ...                  2  Corporate Auto  Corporate L3            Offer2   \n",
       "10  ...                  1  Corporate Auto  Corporate L3            Offer2   \n",
       "13  ...                  4   Personal Auto   Personal L3            Offer4   \n",
       "16  ...                  6   Personal Auto   Personal L3            Offer4   \n",
       "\n",
       "    sales channel  total claim amount  vehicle class vehicle size  \\\n",
       "2     Call Center          480.000000            SUV      Medsize   \n",
       "3          Branch          484.013411  Four-Door Car      Medsize   \n",
       "10         Branch          442.521087            SUV        Large   \n",
       "13    Call Center          331.200000   Two-Door Car      Medsize   \n",
       "16    Call Center          300.528579   Two-Door Car        Large   \n",
       "\n",
       "   vehicle type months  \n",
       "2             A      2  \n",
       "3             A      1  \n",
       "10            A      1  \n",
       "13            A      1  \n",
       "16            A      2  \n",
       "\n",
       "[5 rows x 26 columns]"
      ]
     },
     "execution_count": 6,
     "metadata": {},
     "output_type": "execute_result"
    }
   ],
   "source": [
    "df.head()"
   ]
  },
  {
   "cell_type": "markdown",
   "metadata": {},
   "source": [
    "### Describe DataFrame."
   ]
  },
  {
   "cell_type": "code",
   "execution_count": 7,
   "metadata": {},
   "outputs": [
    {
     "data": {
      "text/plain": [
       "customer                                 object\n",
       "state                                    object\n",
       "customer lifetime value                 float64\n",
       "response                                 object\n",
       "coverage                                 object\n",
       "education                                object\n",
       "effective to date                datetime64[ns]\n",
       "employmentstatus                         object\n",
       "gender                                   object\n",
       "income                                    int64\n",
       "location code                            object\n",
       "marital status                           object\n",
       "monthly premium auto                      int64\n",
       "months since last claim                 float64\n",
       "months since policy inception             int64\n",
       "number of open complaints               float64\n",
       "number of policies                        int64\n",
       "policy type                              object\n",
       "policy                                   object\n",
       "renew offer type                         object\n",
       "sales channel                            object\n",
       "total claim amount                      float64\n",
       "vehicle class                            object\n",
       "vehicle size                             object\n",
       "vehicle type                             object\n",
       "months                                    int64\n",
       "dtype: object"
      ]
     },
     "execution_count": 7,
     "metadata": {},
     "output_type": "execute_result"
    }
   ],
   "source": [
    "df.dtypes"
   ]
  },
  {
   "cell_type": "code",
   "execution_count": 8,
   "metadata": {},
   "outputs": [
    {
     "data": {
      "text/html": [
       "<div>\n",
       "<style scoped>\n",
       "    .dataframe tbody tr th:only-of-type {\n",
       "        vertical-align: middle;\n",
       "    }\n",
       "\n",
       "    .dataframe tbody tr th {\n",
       "        vertical-align: top;\n",
       "    }\n",
       "\n",
       "    .dataframe thead th {\n",
       "        text-align: right;\n",
       "    }\n",
       "</style>\n",
       "<table border=\"1\" class=\"dataframe\">\n",
       "  <thead>\n",
       "    <tr style=\"text-align: right;\">\n",
       "      <th></th>\n",
       "      <th>count</th>\n",
       "      <th>mean</th>\n",
       "      <th>std</th>\n",
       "      <th>min</th>\n",
       "      <th>25%</th>\n",
       "      <th>50%</th>\n",
       "      <th>75%</th>\n",
       "      <th>max</th>\n",
       "    </tr>\n",
       "  </thead>\n",
       "  <tbody>\n",
       "    <tr>\n",
       "      <th>customer lifetime value</th>\n",
       "      <td>4543.0</td>\n",
       "      <td>8033.714059</td>\n",
       "      <td>6959.529443</td>\n",
       "      <td>1904.000852</td>\n",
       "      <td>4039.089902</td>\n",
       "      <td>5846.520588</td>\n",
       "      <td>8936.596938</td>\n",
       "      <td>83325.381190</td>\n",
       "    </tr>\n",
       "    <tr>\n",
       "      <th>income</th>\n",
       "      <td>4543.0</td>\n",
       "      <td>37453.033238</td>\n",
       "      <td>30257.399536</td>\n",
       "      <td>0.000000</td>\n",
       "      <td>0.000000</td>\n",
       "      <td>34455.000000</td>\n",
       "      <td>61560.000000</td>\n",
       "      <td>99961.000000</td>\n",
       "    </tr>\n",
       "    <tr>\n",
       "      <th>monthly premium auto</th>\n",
       "      <td>4543.0</td>\n",
       "      <td>93.773278</td>\n",
       "      <td>35.093661</td>\n",
       "      <td>61.000000</td>\n",
       "      <td>69.000000</td>\n",
       "      <td>83.000000</td>\n",
       "      <td>110.000000</td>\n",
       "      <td>298.000000</td>\n",
       "    </tr>\n",
       "    <tr>\n",
       "      <th>months since last claim</th>\n",
       "      <td>4543.0</td>\n",
       "      <td>15.111820</td>\n",
       "      <td>10.157925</td>\n",
       "      <td>0.000000</td>\n",
       "      <td>6.000000</td>\n",
       "      <td>14.000000</td>\n",
       "      <td>23.000000</td>\n",
       "      <td>35.000000</td>\n",
       "    </tr>\n",
       "    <tr>\n",
       "      <th>months since policy inception</th>\n",
       "      <td>4543.0</td>\n",
       "      <td>48.153863</td>\n",
       "      <td>28.146904</td>\n",
       "      <td>0.000000</td>\n",
       "      <td>24.000000</td>\n",
       "      <td>47.000000</td>\n",
       "      <td>72.000000</td>\n",
       "      <td>99.000000</td>\n",
       "    </tr>\n",
       "    <tr>\n",
       "      <th>number of open complaints</th>\n",
       "      <td>4543.0</td>\n",
       "      <td>0.386309</td>\n",
       "      <td>0.907553</td>\n",
       "      <td>0.000000</td>\n",
       "      <td>0.000000</td>\n",
       "      <td>0.000000</td>\n",
       "      <td>0.000000</td>\n",
       "      <td>5.000000</td>\n",
       "    </tr>\n",
       "    <tr>\n",
       "      <th>number of policies</th>\n",
       "      <td>4543.0</td>\n",
       "      <td>2.980189</td>\n",
       "      <td>2.390362</td>\n",
       "      <td>1.000000</td>\n",
       "      <td>1.000000</td>\n",
       "      <td>2.000000</td>\n",
       "      <td>4.000000</td>\n",
       "      <td>9.000000</td>\n",
       "    </tr>\n",
       "    <tr>\n",
       "      <th>total claim amount</th>\n",
       "      <td>4543.0</td>\n",
       "      <td>436.477525</td>\n",
       "      <td>295.026990</td>\n",
       "      <td>0.099007</td>\n",
       "      <td>265.686145</td>\n",
       "      <td>384.000000</td>\n",
       "      <td>552.000000</td>\n",
       "      <td>2893.239678</td>\n",
       "    </tr>\n",
       "    <tr>\n",
       "      <th>months</th>\n",
       "      <td>4543.0</td>\n",
       "      <td>1.469734</td>\n",
       "      <td>0.499138</td>\n",
       "      <td>1.000000</td>\n",
       "      <td>1.000000</td>\n",
       "      <td>1.000000</td>\n",
       "      <td>2.000000</td>\n",
       "      <td>2.000000</td>\n",
       "    </tr>\n",
       "  </tbody>\n",
       "</table>\n",
       "</div>"
      ],
      "text/plain": [
       "                                count          mean           std  \\\n",
       "customer lifetime value        4543.0   8033.714059   6959.529443   \n",
       "income                         4543.0  37453.033238  30257.399536   \n",
       "monthly premium auto           4543.0     93.773278     35.093661   \n",
       "months since last claim        4543.0     15.111820     10.157925   \n",
       "months since policy inception  4543.0     48.153863     28.146904   \n",
       "number of open complaints      4543.0      0.386309      0.907553   \n",
       "number of policies             4543.0      2.980189      2.390362   \n",
       "total claim amount             4543.0    436.477525    295.026990   \n",
       "months                         4543.0      1.469734      0.499138   \n",
       "\n",
       "                                       min          25%           50%  \\\n",
       "customer lifetime value        1904.000852  4039.089902   5846.520588   \n",
       "income                            0.000000     0.000000  34455.000000   \n",
       "monthly premium auto             61.000000    69.000000     83.000000   \n",
       "months since last claim           0.000000     6.000000     14.000000   \n",
       "months since policy inception     0.000000    24.000000     47.000000   \n",
       "number of open complaints         0.000000     0.000000      0.000000   \n",
       "number of policies                1.000000     1.000000      2.000000   \n",
       "total claim amount                0.099007   265.686145    384.000000   \n",
       "months                            1.000000     1.000000      1.000000   \n",
       "\n",
       "                                        75%           max  \n",
       "customer lifetime value         8936.596938  83325.381190  \n",
       "income                         61560.000000  99961.000000  \n",
       "monthly premium auto             110.000000    298.000000  \n",
       "months since last claim           23.000000     35.000000  \n",
       "months since policy inception     72.000000     99.000000  \n",
       "number of open complaints          0.000000      5.000000  \n",
       "number of policies                 4.000000      9.000000  \n",
       "total claim amount               552.000000   2893.239678  \n",
       "months                             2.000000      2.000000  "
      ]
     },
     "execution_count": 8,
     "metadata": {},
     "output_type": "execute_result"
    }
   ],
   "source": [
    "df.describe().T"
   ]
  },
  {
   "cell_type": "code",
   "execution_count": 9,
   "metadata": {},
   "outputs": [
    {
     "data": {
      "text/plain": [
       "Yes     641\n",
       "No     3902\n",
       "Name: response, dtype: int64"
      ]
     },
     "execution_count": 9,
     "metadata": {},
     "output_type": "execute_result"
    }
   ],
   "source": [
    "df['response'].value_counts(ascending=True)"
   ]
  },
  {
   "cell_type": "code",
   "execution_count": 10,
   "metadata": {},
   "outputs": [
    {
     "data": {
      "text/plain": [
       "(4543,)"
      ]
     },
     "execution_count": 10,
     "metadata": {},
     "output_type": "execute_result"
    }
   ],
   "source": [
    "df['response'].values\n",
    "df['response'].value_counts()\n",
    "df['response'].shape"
   ]
  },
  {
   "cell_type": "markdown",
   "metadata": {},
   "source": [
    "# Round 3"
   ]
  },
  {
   "cell_type": "markdown",
   "metadata": {},
   "source": []
  },
  {
   "cell_type": "markdown",
   "metadata": {},
   "source": [
    "### Show a plot of the total number of responses."
   ]
  },
  {
   "cell_type": "code",
   "execution_count": 11,
   "metadata": {},
   "outputs": [
    {
     "data": {
      "text/plain": [
       "(<AxesSubplot:>,\n",
       " No     3902\n",
       " Yes     641\n",
       " Name: response, dtype: int64)"
      ]
     },
     "execution_count": 11,
     "metadata": {},
     "output_type": "execute_result"
    },
    {
     "data": {
      "image/png": "[encoded data removed]",
      "text/plain": [
       "<Figure size 432x288 with 1 Axes>"
      ]
     },
     "metadata": {},
     "output_type": "display_data"
    }
   ],
   "source": [
    "df['response'].value_counts().plot(kind='bar'), df['response'].value_counts()"
   ]
  },
  {
   "cell_type": "markdown",
   "metadata": {},
   "source": [
    "### Show a plot of the response rate by the sales channel."
   ]
  },
  {
   "cell_type": "code",
   "execution_count": 12,
   "metadata": {},
   "outputs": [
    {
     "data": {
      "image/png": "[encoded data removed]",
      "text/plain": [
       "<Figure size 576x288 with 1 Axes>"
      ]
     },
     "metadata": {},
     "output_type": "display_data"
    }
   ],
   "source": [
    "plt.figure(figsize=(8,4))\n",
    "sns.countplot(x='sales channel', hue='response', data=df)\n",
    "plt.ylabel('Response by Sales Channel')\n",
    "plt.show()"
   ]
  },
  {
   "cell_type": "code",
   "execution_count": 13,
   "metadata": {},
   "outputs": [
    {
     "data": {
      "image/png": "[encoded data removed]",
      "text/plain": [
       "<Figure size 432x288 with 1 Axes>"
      ]
     },
     "metadata": {},
     "output_type": "display_data"
    }
   ],
   "source": [
    "# sns.barplot(x=\"response\", y=\"sales channel\", data=df)\n",
    "sns.histplot(binwidth=2, x=\"response\", y=\"sales channel\", data=df, stat=\"count\", multiple=\"stack\")\n",
    "\n",
    "plt.show()"
   ]
  },
  {
   "cell_type": "markdown",
   "metadata": {},
   "source": [
    "### Show a plot of the response rate by the total claim amount.\n"
   ]
  },
  {
   "cell_type": "code",
   "execution_count": 14,
   "metadata": {},
   "outputs": [
    {
     "data": {
      "image/png": "[encoded data removed]",
      "text/plain": [
       "<Figure size 432x288 with 1 Axes>"
      ]
     },
     "metadata": {},
     "output_type": "display_data"
    }
   ],
   "source": [
    "# sns.histplot(binwidth=2, x='response', y=\"total claim amount\", data=df, stat=\"count\", multiple=\"stack\")\n",
    "# plt.show()\n",
    "sns.barplot(x=\"response\", y=\"total claim amount\", data=df)\n",
    "plt.show()"
   ]
  },
  {
   "cell_type": "code",
   "execution_count": 15,
   "metadata": {},
   "outputs": [],
   "source": [
    "# plt.figure(figsize=(8,4))\n",
    "# sns.countplot(x='total claim amount', hue='response', data=df)\n",
    "# plt.ylabel('Response by total claim amount')\n",
    "# plt.show()"
   ]
  },
  {
   "cell_type": "code",
   "execution_count": 16,
   "metadata": {},
   "outputs": [
    {
     "data": {
      "image/png": "[encoded data removed]",
      "text/plain": [
       "<Figure size 432x288 with 1 Axes>"
      ]
     },
     "metadata": {},
     "output_type": "display_data"
    },
    {
     "data": {
      "image/png": "[encoded data removed]",
      "text/plain": [
       "<Figure size 432x288 with 1 Axes>"
      ]
     },
     "metadata": {},
     "output_type": "display_data"
    }
   ],
   "source": [
    "sns.boxplot(data=df,x=\"response\", y=\"total claim amount\")\n",
    "plt.show()\n",
    "\n",
    "sns.boxplot(data = df, x= \"total claim amount\")\n",
    "plt.show()"
   ]
  },
  {
   "cell_type": "code",
   "execution_count": 17,
   "metadata": {},
   "outputs": [
    {
     "data": {
      "image/png": "[encoded data removed]",
      "text/plain": [
       "<Figure size 432x288 with 1 Axes>"
      ]
     },
     "metadata": {},
     "output_type": "display_data"
    }
   ],
   "source": [
    "sns.barplot(x=\"response\", y=\"total claim amount\", data=df)\n",
    "plt.show()"
   ]
  },
  {
   "cell_type": "markdown",
   "metadata": {},
   "source": [
    "### Show a plot of the response rate by income.\n",
    "\n"
   ]
  },
  {
   "cell_type": "code",
   "execution_count": 18,
   "metadata": {},
   "outputs": [
    {
     "data": {
      "image/png": "[encoded data removed]",
      "text/plain": [
       "<Figure size 432x288 with 1 Axes>"
      ]
     },
     "metadata": {},
     "output_type": "display_data"
    }
   ],
   "source": [
    "sns.barplot(x=\"response\", y=\"income\", data=df)\n",
    "plt.show()"
   ]
  },
  {
   "cell_type": "code",
   "execution_count": 19,
   "metadata": {},
   "outputs": [
    {
     "data": {
      "image/png": "[encoded data removed]",
      "text/plain": [
       "<Figure size 432x288 with 1 Axes>"
      ]
     },
     "metadata": {},
     "output_type": "display_data"
    }
   ],
   "source": [
    "sns.boxplot(data=df, x='income')\n",
    "plt.show()"
   ]
  },
  {
   "cell_type": "code",
   "execution_count": 20,
   "metadata": {},
   "outputs": [],
   "source": [
    "# Not worth this one\n",
    "# plt.figure(figsize=(8,4))\n",
    "# sns.countplot(x='income', hue='response', data=df)\n",
    "# plt.ylabel('Response by Income')\n",
    "# plt.show()"
   ]
  },
  {
   "cell_type": "markdown",
   "metadata": {},
   "source": [
    "# Round 4\n",
    "\n"
   ]
  },
  {
   "cell_type": "code",
   "execution_count": 21,
   "metadata": {},
   "outputs": [],
   "source": [
    "X_num = df.select_dtypes(include = np.number)\n",
    "X_cat = df.select_dtypes(include = object)"
   ]
  },
  {
   "cell_type": "code",
   "execution_count": 22,
   "metadata": {},
   "outputs": [
    {
     "data": {
      "text/plain": [
       "customer lifetime value          float64\n",
       "income                             int64\n",
       "monthly premium auto               int64\n",
       "months since last claim          float64\n",
       "months since policy inception      int64\n",
       "number of open complaints        float64\n",
       "number of policies                 int64\n",
       "total claim amount               float64\n",
       "months                             int64\n",
       "dtype: object"
      ]
     },
     "execution_count": 22,
     "metadata": {},
     "output_type": "execute_result"
    }
   ],
   "source": [
    "X_num.dtypes"
   ]
  },
  {
   "cell_type": "code",
   "execution_count": 23,
   "metadata": {},
   "outputs": [
    {
     "data": {
      "text/plain": [
       "customer            object\n",
       "state               object\n",
       "response            object\n",
       "coverage            object\n",
       "education           object\n",
       "employmentstatus    object\n",
       "gender              object\n",
       "location code       object\n",
       "marital status      object\n",
       "policy type         object\n",
       "policy              object\n",
       "renew offer type    object\n",
       "sales channel       object\n",
       "vehicle class       object\n",
       "vehicle size        object\n",
       "vehicle type        object\n",
       "dtype: object"
      ]
     },
     "execution_count": 23,
     "metadata": {},
     "output_type": "execute_result"
    }
   ],
   "source": [
    "X_cat.dtypes"
   ]
  },
  {
   "cell_type": "code",
   "execution_count": 24,
   "metadata": {},
   "outputs": [
    {
     "data": {
      "text/plain": [
       "3.0"
      ]
     },
     "execution_count": 24,
     "metadata": {},
     "output_type": "execute_result"
    }
   ],
   "source": [
    "len(X_num.dtypes)/3"
   ]
  },
  {
   "cell_type": "code",
   "execution_count": 25,
   "metadata": {},
   "outputs": [],
   "source": [
    "# sns.pairplot(X_num)\n",
    "# plt.show()"
   ]
  },
  {
   "cell_type": "code",
   "execution_count": 26,
   "metadata": {},
   "outputs": [
    {
     "data": {
      "image/png": "[encoded data removed]",
      "text/plain": [
       "<Figure size 720x360 with 2 Axes>"
      ]
     },
     "metadata": {},
     "output_type": "display_data"
    }
   ],
   "source": [
    "plt.figure(figsize=(10,5))\n",
    "correlations_matrix = X_num.corr()\n",
    "sns.heatmap(correlations_matrix, annot=True)\n",
    "plt.show()"
   ]
  },
  {
   "cell_type": "code",
   "execution_count": 27,
   "metadata": {},
   "outputs": [
    {
     "data": {
      "text/html": [
       "<div>\n",
       "<style scoped>\n",
       "    .dataframe tbody tr th:only-of-type {\n",
       "        vertical-align: middle;\n",
       "    }\n",
       "\n",
       "    .dataframe tbody tr th {\n",
       "        vertical-align: top;\n",
       "    }\n",
       "\n",
       "    .dataframe thead th {\n",
       "        text-align: right;\n",
       "    }\n",
       "</style>\n",
       "<table border=\"1\" class=\"dataframe\">\n",
       "  <thead>\n",
       "    <tr style=\"text-align: right;\">\n",
       "      <th></th>\n",
       "      <th>customer lifetime value</th>\n",
       "      <th>income</th>\n",
       "      <th>monthly premium auto</th>\n",
       "      <th>months since last claim</th>\n",
       "      <th>months since policy inception</th>\n",
       "      <th>number of open complaints</th>\n",
       "      <th>number of policies</th>\n",
       "      <th>total claim amount</th>\n",
       "      <th>months</th>\n",
       "    </tr>\n",
       "  </thead>\n",
       "  <tbody>\n",
       "    <tr>\n",
       "      <th>customer lifetime value</th>\n",
       "      <td>1.000000</td>\n",
       "      <td>0.015914</td>\n",
       "      <td>0.413739</td>\n",
       "      <td>0.029199</td>\n",
       "      <td>0.022465</td>\n",
       "      <td>-0.034924</td>\n",
       "      <td>0.015397</td>\n",
       "      <td>0.228579</td>\n",
       "      <td>-0.020217</td>\n",
       "    </tr>\n",
       "    <tr>\n",
       "      <th>income</th>\n",
       "      <td>0.015914</td>\n",
       "      <td>1.000000</td>\n",
       "      <td>-0.007594</td>\n",
       "      <td>-0.010556</td>\n",
       "      <td>-0.007987</td>\n",
       "      <td>0.001149</td>\n",
       "      <td>-0.013199</td>\n",
       "      <td>-0.355311</td>\n",
       "      <td>0.004593</td>\n",
       "    </tr>\n",
       "    <tr>\n",
       "      <th>monthly premium auto</th>\n",
       "      <td>0.413739</td>\n",
       "      <td>-0.007594</td>\n",
       "      <td>1.000000</td>\n",
       "      <td>0.000890</td>\n",
       "      <td>0.033422</td>\n",
       "      <td>-0.002469</td>\n",
       "      <td>-0.025578</td>\n",
       "      <td>0.630894</td>\n",
       "      <td>-0.002390</td>\n",
       "    </tr>\n",
       "    <tr>\n",
       "      <th>months since last claim</th>\n",
       "      <td>0.029199</td>\n",
       "      <td>-0.010556</td>\n",
       "      <td>0.000890</td>\n",
       "      <td>1.000000</td>\n",
       "      <td>-0.036879</td>\n",
       "      <td>-0.000364</td>\n",
       "      <td>0.001089</td>\n",
       "      <td>-0.011449</td>\n",
       "      <td>-0.010319</td>\n",
       "    </tr>\n",
       "    <tr>\n",
       "      <th>months since policy inception</th>\n",
       "      <td>0.022465</td>\n",
       "      <td>-0.007987</td>\n",
       "      <td>0.033422</td>\n",
       "      <td>-0.036879</td>\n",
       "      <td>1.000000</td>\n",
       "      <td>-0.001965</td>\n",
       "      <td>-0.009029</td>\n",
       "      <td>0.012610</td>\n",
       "      <td>0.003928</td>\n",
       "    </tr>\n",
       "    <tr>\n",
       "      <th>number of open complaints</th>\n",
       "      <td>-0.034924</td>\n",
       "      <td>0.001149</td>\n",
       "      <td>-0.002469</td>\n",
       "      <td>-0.000364</td>\n",
       "      <td>-0.001965</td>\n",
       "      <td>1.000000</td>\n",
       "      <td>0.014388</td>\n",
       "      <td>-0.003433</td>\n",
       "      <td>0.005646</td>\n",
       "    </tr>\n",
       "    <tr>\n",
       "      <th>number of policies</th>\n",
       "      <td>0.015397</td>\n",
       "      <td>-0.013199</td>\n",
       "      <td>-0.025578</td>\n",
       "      <td>0.001089</td>\n",
       "      <td>-0.009029</td>\n",
       "      <td>0.014388</td>\n",
       "      <td>1.000000</td>\n",
       "      <td>0.002864</td>\n",
       "      <td>0.025147</td>\n",
       "    </tr>\n",
       "    <tr>\n",
       "      <th>total claim amount</th>\n",
       "      <td>0.228579</td>\n",
       "      <td>-0.355311</td>\n",
       "      <td>0.630894</td>\n",
       "      <td>-0.011449</td>\n",
       "      <td>0.012610</td>\n",
       "      <td>-0.003433</td>\n",
       "      <td>0.002864</td>\n",
       "      <td>1.000000</td>\n",
       "      <td>-0.004340</td>\n",
       "    </tr>\n",
       "    <tr>\n",
       "      <th>months</th>\n",
       "      <td>-0.020217</td>\n",
       "      <td>0.004593</td>\n",
       "      <td>-0.002390</td>\n",
       "      <td>-0.010319</td>\n",
       "      <td>0.003928</td>\n",
       "      <td>0.005646</td>\n",
       "      <td>0.025147</td>\n",
       "      <td>-0.004340</td>\n",
       "      <td>1.000000</td>\n",
       "    </tr>\n",
       "  </tbody>\n",
       "</table>\n",
       "</div>"
      ],
      "text/plain": [
       "                               customer lifetime value    income  \\\n",
       "customer lifetime value                       1.000000  0.015914   \n",
       "income                                        0.015914  1.000000   \n",
       "monthly premium auto                          0.413739 -0.007594   \n",
       "months since last claim                       0.029199 -0.010556   \n",
       "months since policy inception                 0.022465 -0.007987   \n",
       "number of open complaints                    -0.034924  0.001149   \n",
       "number of policies                            0.015397 -0.013199   \n",
       "total claim amount                            0.228579 -0.355311   \n",
       "months                                       -0.020217  0.004593   \n",
       "\n",
       "                               monthly premium auto  months since last claim  \\\n",
       "customer lifetime value                    0.413739                 0.029199   \n",
       "income                                    -0.007594                -0.010556   \n",
       "monthly premium auto                       1.000000                 0.000890   \n",
       "months since last claim                    0.000890                 1.000000   \n",
       "months since policy inception              0.033422                -0.036879   \n",
       "number of open complaints                 -0.002469                -0.000364   \n",
       "number of policies                        -0.025578                 0.001089   \n",
       "total claim amount                         0.630894                -0.011449   \n",
       "months                                    -0.002390                -0.010319   \n",
       "\n",
       "                               months since policy inception  \\\n",
       "customer lifetime value                             0.022465   \n",
       "income                                             -0.007987   \n",
       "monthly premium auto                                0.033422   \n",
       "months since last claim                            -0.036879   \n",
       "months since policy inception                       1.000000   \n",
       "number of open complaints                          -0.001965   \n",
       "number of policies                                 -0.009029   \n",
       "total claim amount                                  0.012610   \n",
       "months                                              0.003928   \n",
       "\n",
       "                               number of open complaints  number of policies  \\\n",
       "customer lifetime value                        -0.034924            0.015397   \n",
       "income                                          0.001149           -0.013199   \n",
       "monthly premium auto                           -0.002469           -0.025578   \n",
       "months since last claim                        -0.000364            0.001089   \n",
       "months since policy inception                  -0.001965           -0.009029   \n",
       "number of open complaints                       1.000000            0.014388   \n",
       "number of policies                              0.014388            1.000000   \n",
       "total claim amount                             -0.003433            0.002864   \n",
       "months                                          0.005646            0.025147   \n",
       "\n",
       "                               total claim amount    months  \n",
       "customer lifetime value                  0.228579 -0.020217  \n",
       "income                                  -0.355311  0.004593  \n",
       "monthly premium auto                     0.630894 -0.002390  \n",
       "months since last claim                 -0.011449 -0.010319  \n",
       "months since policy inception            0.012610  0.003928  \n",
       "number of open complaints               -0.003433  0.005646  \n",
       "number of policies                       0.002864  0.025147  \n",
       "total claim amount                       1.000000 -0.004340  \n",
       "months                                  -0.004340  1.000000  "
      ]
     },
     "execution_count": 27,
     "metadata": {},
     "output_type": "execute_result"
    }
   ],
   "source": [
    "X_num.corr()"
   ]
  },
  {
   "cell_type": "markdown",
   "metadata": {},
   "source": [
    "### Now we will try to check the normality of the numerical variables visually"
   ]
  },
  {
   "cell_type": "code",
   "execution_count": 28,
   "metadata": {},
   "outputs": [],
   "source": [
    "# Function to remove outliers\n",
    "def rm_outliers(df):\n",
    "    iqr = np.percentile(df,75) - np.percentile(df,25)\n",
    "    upper_limit1 = np.percentile(df,75) + 1.5*iqr\n",
    "    lower_limit1 = np.percentile(df,25) - 1.5*iqr\n",
    "    df0 = df[(df>lower_limit1) & (df<upper_limit1)].copy()\n",
    "    sns.displot(df0,kde=True)        \n",
    "    return plt.show()"
   ]
  },
  {
   "cell_type": "code",
   "execution_count": 29,
   "metadata": {},
   "outputs": [
    {
     "data": {
      "text/plain": [
       "Index(['customer lifetime value', 'income', 'monthly premium auto',\n",
       "       'months since last claim', 'months since policy inception',\n",
       "       'number of open complaints', 'number of policies', 'total claim amount',\n",
       "       'months'],\n",
       "      dtype='object')"
      ]
     },
     "execution_count": 29,
     "metadata": {},
     "output_type": "execute_result"
    }
   ],
   "source": [
    "X_num.columns"
   ]
  },
  {
   "cell_type": "code",
   "execution_count": 30,
   "metadata": {},
   "outputs": [],
   "source": [
    "# fig, ax = plt.subplots()\n",
    "# for i in X_num.columns:\n",
    "#     plt.hist(X_num[i])\n",
    "#     plt.show"
   ]
  },
  {
   "cell_type": "code",
   "execution_count": 31,
   "metadata": {},
   "outputs": [
    {
     "data": {
      "image/png": "[encoded data removed]",
      "text/plain": [
       "<Figure size 360x360 with 1 Axes>"
      ]
     },
     "metadata": {},
     "output_type": "display_data"
    }
   ],
   "source": [
    "rm_outliers(df['customer lifetime value'])"
   ]
  },
  {
   "cell_type": "markdown",
   "metadata": {},
   "source": [
    "### For the numerical variables, check the multicollinearity between the features."
   ]
  },
  {
   "cell_type": "code",
   "execution_count": 32,
   "metadata": {},
   "outputs": [],
   "source": [
    "from sklearn import linear_model\n",
    "from sklearn.metrics import mean_squared_error, r2_score"
   ]
  },
  {
   "cell_type": "code",
   "execution_count": 33,
   "metadata": {},
   "outputs": [
    {
     "data": {
      "text/html": [
       "<div>\n",
       "<style scoped>\n",
       "    .dataframe tbody tr th:only-of-type {\n",
       "        vertical-align: middle;\n",
       "    }\n",
       "\n",
       "    .dataframe tbody tr th {\n",
       "        vertical-align: top;\n",
       "    }\n",
       "\n",
       "    .dataframe thead th {\n",
       "        text-align: right;\n",
       "    }\n",
       "</style>\n",
       "<table border=\"1\" class=\"dataframe\">\n",
       "  <thead>\n",
       "    <tr style=\"text-align: right;\">\n",
       "      <th></th>\n",
       "      <th>customer</th>\n",
       "      <th>state</th>\n",
       "      <th>customer lifetime value</th>\n",
       "      <th>response</th>\n",
       "      <th>coverage</th>\n",
       "      <th>education</th>\n",
       "      <th>effective to date</th>\n",
       "      <th>employmentstatus</th>\n",
       "      <th>gender</th>\n",
       "      <th>income</th>\n",
       "      <th>...</th>\n",
       "      <th>number of policies</th>\n",
       "      <th>policy type</th>\n",
       "      <th>policy</th>\n",
       "      <th>renew offer type</th>\n",
       "      <th>sales channel</th>\n",
       "      <th>total claim amount</th>\n",
       "      <th>vehicle class</th>\n",
       "      <th>vehicle size</th>\n",
       "      <th>vehicle type</th>\n",
       "      <th>months</th>\n",
       "    </tr>\n",
       "  </thead>\n",
       "  <tbody>\n",
       "    <tr>\n",
       "      <th>2</th>\n",
       "      <td>LZ68649</td>\n",
       "      <td>Washington</td>\n",
       "      <td>14947.917300</td>\n",
       "      <td>No</td>\n",
       "      <td>Basic</td>\n",
       "      <td>Bachelor</td>\n",
       "      <td>2011-02-10</td>\n",
       "      <td>Employed</td>\n",
       "      <td>M</td>\n",
       "      <td>22139</td>\n",
       "      <td>...</td>\n",
       "      <td>2</td>\n",
       "      <td>Personal Auto</td>\n",
       "      <td>Personal L3</td>\n",
       "      <td>Offer3</td>\n",
       "      <td>Call Center</td>\n",
       "      <td>480.000000</td>\n",
       "      <td>SUV</td>\n",
       "      <td>Medsize</td>\n",
       "      <td>A</td>\n",
       "      <td>2</td>\n",
       "    </tr>\n",
       "    <tr>\n",
       "      <th>3</th>\n",
       "      <td>XL78013</td>\n",
       "      <td>Oregon</td>\n",
       "      <td>22332.439460</td>\n",
       "      <td>Yes</td>\n",
       "      <td>Extended</td>\n",
       "      <td>College</td>\n",
       "      <td>2011-01-11</td>\n",
       "      <td>Employed</td>\n",
       "      <td>M</td>\n",
       "      <td>49078</td>\n",
       "      <td>...</td>\n",
       "      <td>2</td>\n",
       "      <td>Corporate Auto</td>\n",
       "      <td>Corporate L3</td>\n",
       "      <td>Offer2</td>\n",
       "      <td>Branch</td>\n",
       "      <td>484.013411</td>\n",
       "      <td>Four-Door Car</td>\n",
       "      <td>Medsize</td>\n",
       "      <td>A</td>\n",
       "      <td>1</td>\n",
       "    </tr>\n",
       "    <tr>\n",
       "      <th>10</th>\n",
       "      <td>HG93801</td>\n",
       "      <td>Arizona</td>\n",
       "      <td>5154.764074</td>\n",
       "      <td>No</td>\n",
       "      <td>Extended</td>\n",
       "      <td>High School or Below</td>\n",
       "      <td>2011-01-02</td>\n",
       "      <td>Employed</td>\n",
       "      <td>M</td>\n",
       "      <td>82730</td>\n",
       "      <td>...</td>\n",
       "      <td>1</td>\n",
       "      <td>Corporate Auto</td>\n",
       "      <td>Corporate L3</td>\n",
       "      <td>Offer2</td>\n",
       "      <td>Branch</td>\n",
       "      <td>442.521087</td>\n",
       "      <td>SUV</td>\n",
       "      <td>Large</td>\n",
       "      <td>A</td>\n",
       "      <td>1</td>\n",
       "    </tr>\n",
       "    <tr>\n",
       "      <th>13</th>\n",
       "      <td>KR82385</td>\n",
       "      <td>California</td>\n",
       "      <td>5454.587929</td>\n",
       "      <td>No</td>\n",
       "      <td>Basic</td>\n",
       "      <td>Master</td>\n",
       "      <td>2011-01-26</td>\n",
       "      <td>Employed</td>\n",
       "      <td>M</td>\n",
       "      <td>66334</td>\n",
       "      <td>...</td>\n",
       "      <td>4</td>\n",
       "      <td>Personal Auto</td>\n",
       "      <td>Personal L3</td>\n",
       "      <td>Offer4</td>\n",
       "      <td>Call Center</td>\n",
       "      <td>331.200000</td>\n",
       "      <td>Two-Door Car</td>\n",
       "      <td>Medsize</td>\n",
       "      <td>A</td>\n",
       "      <td>1</td>\n",
       "    </tr>\n",
       "    <tr>\n",
       "      <th>16</th>\n",
       "      <td>FH51383</td>\n",
       "      <td>California</td>\n",
       "      <td>5326.677654</td>\n",
       "      <td>No</td>\n",
       "      <td>Basic</td>\n",
       "      <td>High School or Below</td>\n",
       "      <td>2011-02-07</td>\n",
       "      <td>Employed</td>\n",
       "      <td>F</td>\n",
       "      <td>76717</td>\n",
       "      <td>...</td>\n",
       "      <td>6</td>\n",
       "      <td>Personal Auto</td>\n",
       "      <td>Personal L3</td>\n",
       "      <td>Offer4</td>\n",
       "      <td>Call Center</td>\n",
       "      <td>300.528579</td>\n",
       "      <td>Two-Door Car</td>\n",
       "      <td>Large</td>\n",
       "      <td>A</td>\n",
       "      <td>2</td>\n",
       "    </tr>\n",
       "  </tbody>\n",
       "</table>\n",
       "<p>5 rows × 26 columns</p>\n",
       "</div>"
      ],
      "text/plain": [
       "   customer       state  customer lifetime value response  coverage  \\\n",
       "2   LZ68649  Washington             14947.917300       No     Basic   \n",
       "3   XL78013      Oregon             22332.439460      Yes  Extended   \n",
       "10  HG93801     Arizona              5154.764074       No  Extended   \n",
       "13  KR82385  California              5454.587929       No     Basic   \n",
       "16  FH51383  California              5326.677654       No     Basic   \n",
       "\n",
       "               education effective to date employmentstatus gender  income  \\\n",
       "2               Bachelor        2011-02-10         Employed      M   22139   \n",
       "3                College        2011-01-11         Employed      M   49078   \n",
       "10  High School or Below        2011-01-02         Employed      M   82730   \n",
       "13                Master        2011-01-26         Employed      M   66334   \n",
       "16  High School or Below        2011-02-07         Employed      F   76717   \n",
       "\n",
       "    ... number of policies     policy type        policy  renew offer type  \\\n",
       "2   ...                  2   Personal Auto   Personal L3            Offer3   \n",
       "3   ...                  2  Corporate Auto  Corporate L3            Offer2   \n",
       "10  ...                  1  Corporate Auto  Corporate L3            Offer2   \n",
       "13  ...                  4   Personal Auto   Personal L3            Offer4   \n",
       "16  ...                  6   Personal Auto   Personal L3            Offer4   \n",
       "\n",
       "    sales channel  total claim amount  vehicle class vehicle size  \\\n",
       "2     Call Center          480.000000            SUV      Medsize   \n",
       "3          Branch          484.013411  Four-Door Car      Medsize   \n",
       "10         Branch          442.521087            SUV        Large   \n",
       "13    Call Center          331.200000   Two-Door Car      Medsize   \n",
       "16    Call Center          300.528579   Two-Door Car        Large   \n",
       "\n",
       "   vehicle type months  \n",
       "2             A      2  \n",
       "3             A      1  \n",
       "10            A      1  \n",
       "13            A      1  \n",
       "16            A      2  \n",
       "\n",
       "[5 rows x 26 columns]"
      ]
     },
     "execution_count": 33,
     "metadata": {},
     "output_type": "execute_result"
    }
   ],
   "source": [
    "df.head()"
   ]
  },
  {
   "cell_type": "code",
   "execution_count": 45,
   "metadata": {},
   "outputs": [
    {
     "data": {
      "text/plain": [
       "Index(['customer', 'state', 'customer lifetime value', 'response', 'coverage',\n",
       "       'education', 'effective to date', 'employmentstatus', 'gender',\n",
       "       'income', 'location code', 'marital status', 'monthly premium auto',\n",
       "       'months since last claim', 'months since policy inception',\n",
       "       'number of open complaints', 'number of policies', 'policy type',\n",
       "       'policy', 'renew offer type', 'sales channel', 'total claim amount',\n",
       "       'vehicle class', 'vehicle size', 'vehicle type', 'months'],\n",
       "      dtype='object')"
      ]
     },
     "execution_count": 45,
     "metadata": {},
     "output_type": "execute_result"
    }
   ],
   "source": [
    "df.columns"
   ]
  },
  {
   "cell_type": "code",
   "execution_count": 47,
   "metadata": {},
   "outputs": [
    {
     "data": {
      "image/png": "[encoded data removed]",
      "text/plain": [
       "<Figure size 432x288 with 1 Axes>"
      ]
     },
     "metadata": {},
     "output_type": "display_data"
    }
   ],
   "source": [
    "sns.scatterplot(x='monthly premium auto',y='total claim amount',data=df)\n",
    "plt.show()\n",
    "# df.columns"
   ]
  },
  {
   "cell_type": "code",
   "execution_count": 35,
   "metadata": {},
   "outputs": [
    {
     "data": {
      "text/plain": [
       "0.6308941629398925"
      ]
     },
     "execution_count": 35,
     "metadata": {},
     "output_type": "execute_result"
    }
   ],
   "source": [
    "df['total claim amount'].corr(df['monthly premium auto'])"
   ]
  },
  {
   "cell_type": "code",
   "execution_count": 58,
   "metadata": {},
   "outputs": [],
   "source": [
    "y = df['total claim amount']\n",
    "# X = df[['monthly premium auto']]\n",
    "Xnum_ = df.drop(['total claim amount'], axis=1)\n",
    "X_num = X.select_dtypes(include = np.number)\n",
    "X_cat = X.select_dtypes(include = object)"
   ]
  },
  {
   "cell_type": "code",
   "execution_count": 60,
   "metadata": {},
   "outputs": [
    {
     "data": {
      "text/html": [
       "<div>\n",
       "<style scoped>\n",
       "    .dataframe tbody tr th:only-of-type {\n",
       "        vertical-align: middle;\n",
       "    }\n",
       "\n",
       "    .dataframe tbody tr th {\n",
       "        vertical-align: top;\n",
       "    }\n",
       "\n",
       "    .dataframe thead th {\n",
       "        text-align: right;\n",
       "    }\n",
       "</style>\n",
       "<table border=\"1\" class=\"dataframe\">\n",
       "  <thead>\n",
       "    <tr style=\"text-align: right;\">\n",
       "      <th></th>\n",
       "      <th>customer lifetime value</th>\n",
       "      <th>income</th>\n",
       "      <th>monthly premium auto</th>\n",
       "      <th>months since last claim</th>\n",
       "      <th>months since policy inception</th>\n",
       "      <th>number of open complaints</th>\n",
       "      <th>number of policies</th>\n",
       "      <th>months</th>\n",
       "    </tr>\n",
       "  </thead>\n",
       "  <tbody>\n",
       "    <tr>\n",
       "      <th>2</th>\n",
       "      <td>14947.917300</td>\n",
       "      <td>22139</td>\n",
       "      <td>100</td>\n",
       "      <td>34.0</td>\n",
       "      <td>31</td>\n",
       "      <td>0.0</td>\n",
       "      <td>2</td>\n",
       "      <td>2</td>\n",
       "    </tr>\n",
       "    <tr>\n",
       "      <th>3</th>\n",
       "      <td>22332.439460</td>\n",
       "      <td>49078</td>\n",
       "      <td>97</td>\n",
       "      <td>10.0</td>\n",
       "      <td>3</td>\n",
       "      <td>0.0</td>\n",
       "      <td>2</td>\n",
       "      <td>1</td>\n",
       "    </tr>\n",
       "    <tr>\n",
       "      <th>10</th>\n",
       "      <td>5154.764074</td>\n",
       "      <td>82730</td>\n",
       "      <td>127</td>\n",
       "      <td>13.0</td>\n",
       "      <td>31</td>\n",
       "      <td>0.0</td>\n",
       "      <td>1</td>\n",
       "      <td>1</td>\n",
       "    </tr>\n",
       "  </tbody>\n",
       "</table>\n",
       "</div>"
      ],
      "text/plain": [
       "    customer lifetime value  income  monthly premium auto  \\\n",
       "2              14947.917300   22139                   100   \n",
       "3              22332.439460   49078                    97   \n",
       "10              5154.764074   82730                   127   \n",
       "\n",
       "    months since last claim  months since policy inception  \\\n",
       "2                      34.0                             31   \n",
       "3                      10.0                              3   \n",
       "10                     13.0                             31   \n",
       "\n",
       "    number of open complaints  number of policies  months  \n",
       "2                         0.0                   2       2  \n",
       "3                         0.0                   2       1  \n",
       "10                        0.0                   1       1  "
      ]
     },
     "execution_count": 60,
     "metadata": {},
     "output_type": "execute_result"
    }
   ],
   "source": [
    "X_num.head(3)"
   ]
  },
  {
   "cell_type": "code",
   "execution_count": 61,
   "metadata": {},
   "outputs": [
    {
     "data": {
      "text/plain": [
       "pandas.core.frame.DataFrame"
      ]
     },
     "execution_count": 61,
     "metadata": {},
     "output_type": "execute_result"
    }
   ],
   "source": [
    "type(X_num)"
   ]
  },
  {
   "cell_type": "code",
   "execution_count": 50,
   "metadata": {},
   "outputs": [],
   "source": [
    "lm = linear_model.LinearRegression()"
   ]
  },
  {
   "cell_type": "code",
   "execution_count": 62,
   "metadata": {},
   "outputs": [
    {
     "name": "stdout",
     "output_type": "stream",
     "text": [
      "b0 =  78.07786825818755\n",
      "b1 =  [-1.31811979e-03 -3.41249941e-03  5.39609855e+00 -4.43410102e-01\n",
      " -1.19099656e-01 -8.99075518e-01  1.87024865e+00 -1.36274420e+00]\n",
      "CPU times: total: 0 ns\n",
      "Wall time: 3.99 ms\n"
     ]
    }
   ],
   "source": [
    "%%time\n",
    "# we now \"fit\" (a.k.a. \"train\") the model in our data\n",
    "# linear regression picks the line (i.e. the intercept and the gradient) that best \"fits\" our data\n",
    "# we will get to the meaning of \"fitting the data\" in a second\n",
    "\n",
    "lm.fit(X_num,y)\n",
    "print(\"b0 = \", lm.intercept_)\n",
    "print(\"b1 = \", lm.coef_) # coefficients is an array because later we will see we can have more than one dimension for our gradient"
   ]
  },
  {
   "cell_type": "markdown",
   "metadata": {},
   "source": [
    "## Not possible to print because there are several dimensions"
   ]
  },
  {
   "cell_type": "code",
   "execution_count": null,
   "metadata": {},
   "outputs": [],
   "source": [
    "#let's visualize this result\n",
    "# regression_line = lm.intercept_ + lm.coef_[0]*df['monthly premium auto']\n",
    "# plt.plot(df['monthly premium auto'], regression_line, c = 'orange')\n",
    "# sns.scatterplot(x='monthly premium auto',y='total claim amount',data=df)\n",
    "# plt.show()"
   ]
  },
  {
   "cell_type": "code",
   "execution_count": 66,
   "metadata": {},
   "outputs": [
    {
     "name": "stdout",
     "output_type": "stream",
     "text": [
      "0.5222902089253081\n",
      "41571.14939543274\n"
     ]
    }
   ],
   "source": [
    "# lm.predict([[10],[20],[35],[55]])\n",
    "lm2 = linear_model.LinearRegression()\n",
    "lm2.fit(X_num,y)\n",
    "print(lm2.score(X_num,y))\n",
    "y_pred = lm2.predict(X_num)\n",
    "print(mean_squared_error(y_pred,y))"
   ]
  },
  {
   "cell_type": "code",
   "execution_count": null,
   "metadata": {},
   "outputs": [],
   "source": [
    "# df.describe().T"
   ]
  },
  {
   "cell_type": "markdown",
   "metadata": {},
   "source": [
    "# Round 5"
   ]
  },
  {
   "cell_type": "markdown",
   "metadata": {},
   "source": [
    "### X-y split and Normalize (numerical)"
   ]
  },
  {
   "cell_type": "code",
   "execution_count": null,
   "metadata": {},
   "outputs": [],
   "source": [
    "from sklearn.preprocessing import MinMaxScaler # do not use the function Normalise() - it does something entirely different\n",
    "from sklearn.preprocessing import StandardScaler\n",
    "def normalizar(dataframe):\n",
    "    y = dataframe['total claim amount']\n",
    "    X = dataframe.drop(['total claim amount'], axis=1)\n",
    "    X_num = X.select_dtypes(include = np.number)\n",
    "    X_cat = X.select_dtypes(include = object)\n",
    "\n",
    "    transformer = MinMaxScaler().fit(X_num)\n",
    "    x_normalized = transformer.transform(X_num)\n",
    "    print(x_normalized.shape)\n",
    "    x_normalized\n",
    "    df = pd.DataFrame(x_normalized, columns=X_num.columns)\n",
    "    return df\n",
    "df_Norm = normalizar(df)"
   ]
  },
  {
   "cell_type": "code",
   "execution_count": null,
   "metadata": {},
   "outputs": [],
   "source": [
    "sns.boxplot(data=df_Norm, x='customer lifetime value')\n",
    "plt.show()\n"
   ]
  },
  {
   "cell_type": "code",
   "execution_count": null,
   "metadata": {},
   "outputs": [],
   "source": [
    "sns.boxplot(data=df_Norm, x='income')\n",
    "plt.show()"
   ]
  },
  {
   "cell_type": "code",
   "execution_count": null,
   "metadata": {},
   "outputs": [],
   "source": [
    "sns.boxplot(data=df_Norm, x='monthly premium auto')\n",
    "plt.show()"
   ]
  }
 ],
 "metadata": {
  "kernelspec": {
   "display_name": "Python 3.9.12 ('base')",
   "language": "python",
   "name": "python3"
  },
  "language_info": {
   "codemirror_mode": {
    "name": "ipython",
    "version": 3
   },
   "file_extension": ".py",
   "mimetype": "text/x-python",
   "name": "python",
   "nbconvert_exporter": "python",
   "pygments_lexer": "ipython3",
   "version": "3.9.12"
  },
  "orig_nbformat": 4,
  "vscode": {
   "interpreter": {
    "hash": "6df17fb4df13b71ec05b4aa94d3608f0ccf4cd310a274d15d56bf76c7ef9733e"
   }
  }
 },
 "nbformat": 4,
 "nbformat_minor": 2
}

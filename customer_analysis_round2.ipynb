{
 "cells": [
  {
   "attachments": {},
   "cell_type": "markdown",
   "metadata": {},
   "source": [
    "# Round 2"
   ]
  },
  {
   "cell_type": "code",
   "execution_count": 9,
   "metadata": {},
   "outputs": [],
   "source": [
    "import numpy as np\n",
    "import pandas as pd\n",
    "import matplotlib.pyplot as plt\n",
    "import scipy.stats as stats\n",
    "import seaborn as sns\n",
    "sns.set()"
   ]
  },
  {
   "cell_type": "code",
   "execution_count": 10,
   "metadata": {},
   "outputs": [],
   "source": [
    "df = pd.read_csv(\"files_for_lab/csv_files/marketing_customer_analysis.csv\")"
   ]
  },
  {
   "cell_type": "code",
   "execution_count": 11,
   "metadata": {},
   "outputs": [
    {
     "data": {
      "text/html": [
       "<div>\n",
       "<style scoped>\n",
       "    .dataframe tbody tr th:only-of-type {\n",
       "        vertical-align: middle;\n",
       "    }\n",
       "\n",
       "    .dataframe tbody tr th {\n",
       "        vertical-align: top;\n",
       "    }\n",
       "\n",
       "    .dataframe thead th {\n",
       "        text-align: right;\n",
       "    }\n",
       "</style>\n",
       "<table border=\"1\" class=\"dataframe\">\n",
       "  <thead>\n",
       "    <tr style=\"text-align: right;\">\n",
       "      <th></th>\n",
       "      <th>Unnamed: 0</th>\n",
       "      <th>Customer</th>\n",
       "      <th>State</th>\n",
       "      <th>Customer Lifetime Value</th>\n",
       "      <th>Response</th>\n",
       "      <th>Coverage</th>\n",
       "      <th>Education</th>\n",
       "      <th>Effective To Date</th>\n",
       "      <th>EmploymentStatus</th>\n",
       "      <th>Gender</th>\n",
       "      <th>...</th>\n",
       "      <th>Number of Open Complaints</th>\n",
       "      <th>Number of Policies</th>\n",
       "      <th>Policy Type</th>\n",
       "      <th>Policy</th>\n",
       "      <th>Renew Offer Type</th>\n",
       "      <th>Sales Channel</th>\n",
       "      <th>Total Claim Amount</th>\n",
       "      <th>Vehicle Class</th>\n",
       "      <th>Vehicle Size</th>\n",
       "      <th>Vehicle Type</th>\n",
       "    </tr>\n",
       "  </thead>\n",
       "  <tbody>\n",
       "    <tr>\n",
       "      <th>0</th>\n",
       "      <td>0</td>\n",
       "      <td>DK49336</td>\n",
       "      <td>Arizona</td>\n",
       "      <td>4809.216960</td>\n",
       "      <td>No</td>\n",
       "      <td>Basic</td>\n",
       "      <td>College</td>\n",
       "      <td>2/18/11</td>\n",
       "      <td>Employed</td>\n",
       "      <td>M</td>\n",
       "      <td>...</td>\n",
       "      <td>0.0</td>\n",
       "      <td>9</td>\n",
       "      <td>Corporate Auto</td>\n",
       "      <td>Corporate L3</td>\n",
       "      <td>Offer3</td>\n",
       "      <td>Agent</td>\n",
       "      <td>292.800000</td>\n",
       "      <td>Four-Door Car</td>\n",
       "      <td>Medsize</td>\n",
       "      <td>NaN</td>\n",
       "    </tr>\n",
       "    <tr>\n",
       "      <th>1</th>\n",
       "      <td>1</td>\n",
       "      <td>KX64629</td>\n",
       "      <td>California</td>\n",
       "      <td>2228.525238</td>\n",
       "      <td>No</td>\n",
       "      <td>Basic</td>\n",
       "      <td>College</td>\n",
       "      <td>1/18/11</td>\n",
       "      <td>Unemployed</td>\n",
       "      <td>F</td>\n",
       "      <td>...</td>\n",
       "      <td>0.0</td>\n",
       "      <td>1</td>\n",
       "      <td>Personal Auto</td>\n",
       "      <td>Personal L3</td>\n",
       "      <td>Offer4</td>\n",
       "      <td>Call Center</td>\n",
       "      <td>744.924331</td>\n",
       "      <td>Four-Door Car</td>\n",
       "      <td>Medsize</td>\n",
       "      <td>NaN</td>\n",
       "    </tr>\n",
       "    <tr>\n",
       "      <th>2</th>\n",
       "      <td>2</td>\n",
       "      <td>LZ68649</td>\n",
       "      <td>Washington</td>\n",
       "      <td>14947.917300</td>\n",
       "      <td>No</td>\n",
       "      <td>Basic</td>\n",
       "      <td>Bachelor</td>\n",
       "      <td>2/10/11</td>\n",
       "      <td>Employed</td>\n",
       "      <td>M</td>\n",
       "      <td>...</td>\n",
       "      <td>0.0</td>\n",
       "      <td>2</td>\n",
       "      <td>Personal Auto</td>\n",
       "      <td>Personal L3</td>\n",
       "      <td>Offer3</td>\n",
       "      <td>Call Center</td>\n",
       "      <td>480.000000</td>\n",
       "      <td>SUV</td>\n",
       "      <td>Medsize</td>\n",
       "      <td>A</td>\n",
       "    </tr>\n",
       "    <tr>\n",
       "      <th>3</th>\n",
       "      <td>3</td>\n",
       "      <td>XL78013</td>\n",
       "      <td>Oregon</td>\n",
       "      <td>22332.439460</td>\n",
       "      <td>Yes</td>\n",
       "      <td>Extended</td>\n",
       "      <td>College</td>\n",
       "      <td>1/11/11</td>\n",
       "      <td>Employed</td>\n",
       "      <td>M</td>\n",
       "      <td>...</td>\n",
       "      <td>0.0</td>\n",
       "      <td>2</td>\n",
       "      <td>Corporate Auto</td>\n",
       "      <td>Corporate L3</td>\n",
       "      <td>Offer2</td>\n",
       "      <td>Branch</td>\n",
       "      <td>484.013411</td>\n",
       "      <td>Four-Door Car</td>\n",
       "      <td>Medsize</td>\n",
       "      <td>A</td>\n",
       "    </tr>\n",
       "    <tr>\n",
       "      <th>4</th>\n",
       "      <td>4</td>\n",
       "      <td>QA50777</td>\n",
       "      <td>Oregon</td>\n",
       "      <td>9025.067525</td>\n",
       "      <td>No</td>\n",
       "      <td>Premium</td>\n",
       "      <td>Bachelor</td>\n",
       "      <td>1/17/11</td>\n",
       "      <td>Medical Leave</td>\n",
       "      <td>F</td>\n",
       "      <td>...</td>\n",
       "      <td>NaN</td>\n",
       "      <td>7</td>\n",
       "      <td>Personal Auto</td>\n",
       "      <td>Personal L2</td>\n",
       "      <td>Offer1</td>\n",
       "      <td>Branch</td>\n",
       "      <td>707.925645</td>\n",
       "      <td>Four-Door Car</td>\n",
       "      <td>Medsize</td>\n",
       "      <td>NaN</td>\n",
       "    </tr>\n",
       "  </tbody>\n",
       "</table>\n",
       "<p>5 rows × 26 columns</p>\n",
       "</div>"
      ],
      "text/plain": [
       "   Unnamed: 0 Customer       State  Customer Lifetime Value Response  \\\n",
       "0           0  DK49336     Arizona              4809.216960       No   \n",
       "1           1  KX64629  California              2228.525238       No   \n",
       "2           2  LZ68649  Washington             14947.917300       No   \n",
       "3           3  XL78013      Oregon             22332.439460      Yes   \n",
       "4           4  QA50777      Oregon              9025.067525       No   \n",
       "\n",
       "   Coverage Education Effective To Date EmploymentStatus Gender  ...  \\\n",
       "0     Basic   College           2/18/11         Employed      M  ...   \n",
       "1     Basic   College           1/18/11       Unemployed      F  ...   \n",
       "2     Basic  Bachelor           2/10/11         Employed      M  ...   \n",
       "3  Extended   College           1/11/11         Employed      M  ...   \n",
       "4   Premium  Bachelor           1/17/11    Medical Leave      F  ...   \n",
       "\n",
       "   Number of Open Complaints Number of Policies     Policy Type        Policy  \\\n",
       "0                        0.0                  9  Corporate Auto  Corporate L3   \n",
       "1                        0.0                  1   Personal Auto   Personal L3   \n",
       "2                        0.0                  2   Personal Auto   Personal L3   \n",
       "3                        0.0                  2  Corporate Auto  Corporate L3   \n",
       "4                        NaN                  7   Personal Auto   Personal L2   \n",
       "\n",
       "   Renew Offer Type  Sales Channel  Total Claim Amount  Vehicle Class  \\\n",
       "0            Offer3          Agent          292.800000  Four-Door Car   \n",
       "1            Offer4    Call Center          744.924331  Four-Door Car   \n",
       "2            Offer3    Call Center          480.000000            SUV   \n",
       "3            Offer2         Branch          484.013411  Four-Door Car   \n",
       "4            Offer1         Branch          707.925645  Four-Door Car   \n",
       "\n",
       "  Vehicle Size Vehicle Type  \n",
       "0      Medsize          NaN  \n",
       "1      Medsize          NaN  \n",
       "2      Medsize            A  \n",
       "3      Medsize            A  \n",
       "4      Medsize          NaN  \n",
       "\n",
       "[5 rows x 26 columns]"
      ]
     },
     "execution_count": 11,
     "metadata": {},
     "output_type": "execute_result"
    }
   ],
   "source": [
    "df.head()"
   ]
  },
  {
   "attachments": {},
   "cell_type": "markdown",
   "metadata": {},
   "source": [
    "#### 1. Show the dataframe shape"
   ]
  },
  {
   "cell_type": "code",
   "execution_count": 12,
   "metadata": {},
   "outputs": [
    {
     "data": {
      "text/plain": [
       "(10910, 26)"
      ]
     },
     "execution_count": 12,
     "metadata": {},
     "output_type": "execute_result"
    }
   ],
   "source": [
    "df.shape"
   ]
  },
  {
   "attachments": {},
   "cell_type": "markdown",
   "metadata": {},
   "source": [
    "#### 4. Standardize header names"
   ]
  },
  {
   "cell_type": "code",
   "execution_count": 13,
   "metadata": {},
   "outputs": [
    {
     "data": {
      "text/plain": [
       "Index(['Unnamed: 0', 'Customer', 'State', 'Customer Lifetime Value',\n",
       "       'Response', 'Coverage', 'Education', 'Effective To Date',\n",
       "       'EmploymentStatus', 'Gender', 'Income', 'Location Code',\n",
       "       'Marital Status', 'Monthly Premium Auto', 'Months Since Last Claim',\n",
       "       'Months Since Policy Inception', 'Number of Open Complaints',\n",
       "       'Number of Policies', 'Policy Type', 'Policy', 'Renew Offer Type',\n",
       "       'Sales Channel', 'Total Claim Amount', 'Vehicle Class', 'Vehicle Size',\n",
       "       'Vehicle Type'],\n",
       "      dtype='object')"
      ]
     },
     "execution_count": 13,
     "metadata": {},
     "output_type": "execute_result"
    }
   ],
   "source": [
    "df.columns"
   ]
  },
  {
   "cell_type": "code",
   "execution_count": 14,
   "metadata": {},
   "outputs": [],
   "source": [
    "df.drop('Unnamed: 0', axis=1, inplace=True)"
   ]
  },
  {
   "cell_type": "code",
   "execution_count": 86,
   "metadata": {},
   "outputs": [
    {
     "name": "stdout",
     "output_type": "stream",
     "text": [
      "['customer', 'state', 'customer_lifetime_value', 'response', 'coverage', 'education', 'effective_to_date', 'employmentstatus', 'gender', 'income', 'location_code', 'marital_status', 'monthly_premium_auto', 'months_since_last_claim', 'months_since_policy_inception', 'number_of_open_complaints', 'number_of_policies', 'policy_type', 'policy', 'renew_offer_type', 'sales_channel', 'total_claim_amount', 'vehicle_class', 'vehicle_size', 'vehicle_type']\n"
     ]
    }
   ],
   "source": [
    "cols = []\n",
    "\n",
    "for i in df.columns:\n",
    "    cols.append(i.lower())\n",
    "\n",
    "cols = list(map(lambda x: x.replace(\" \", \"_\"), cols))\n",
    "\n",
    "print(cols)"
   ]
  }
 ],
 "metadata": {
  "kernelspec": {
   "display_name": "base",
   "language": "python",
   "name": "python3"
  },
  "language_info": {
   "codemirror_mode": {
    "name": "ipython",
    "version": 3
   },
   "file_extension": ".py",
   "mimetype": "text/x-python",
   "name": "python",
   "nbconvert_exporter": "python",
   "pygments_lexer": "ipython3",
   "version": "3.9.15"
  },
  "orig_nbformat": 4,
  "vscode": {
   "interpreter": {
    "hash": "6df17fb4df13b71ec05b4aa94d3608f0ccf4cd310a274d15d56bf76c7ef9733e"
   }
  }
 },
 "nbformat": 4,
 "nbformat_minor": 2
}
